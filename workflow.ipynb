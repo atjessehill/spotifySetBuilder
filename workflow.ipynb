{
 "cells": [
  {
   "cell_type": "code",
   "execution_count": 1,
   "metadata": {},
   "outputs": [],
   "source": [
    "import boto3\n",
    "import spotipy\n",
    "import json\n",
    "import pandas as pd\n",
    "from spotipy.oauth2 import SpotifyClientCredentials\n",
    "import numpy as np"
   ]
  },
  {
   "cell_type": "code",
   "execution_count": null,
   "metadata": {},
   "outputs": [],
   "source": [
    "# TODO\n",
    "# Artist seed needs to search song first and get value that best matches target value \n",
    "# Normalize values\n",
    "# TODO handle case where recommendation doesn't return anything"
   ]
  },
  {
   "cell_type": "code",
   "execution_count": 104,
   "metadata": {},
   "outputs": [],
   "source": [
    "client = boto3.client('lambda')\n",
    "response = client.invoke(FunctionName='spotifyLambda', InvocationType='RequestResponse')\n",
    "data = json.loads(response['Payload'].read())\n",
    "token = json.loads(data['body'])['token']"
   ]
  },
  {
   "cell_type": "code",
   "execution_count": 105,
   "metadata": {},
   "outputs": [],
   "source": [
    "sp = spotipy.Spotify(token)"
   ]
  },
  {
   "cell_type": "code",
   "execution_count": 4,
   "metadata": {},
   "outputs": [],
   "source": [
    "def getFeatures(songID):\n",
    "    audioFeaturesRaw = sp.audio_features(songID)[0]    \n",
    "    return audioFeaturesRaw"
   ]
  },
  {
   "cell_type": "code",
   "execution_count": 100,
   "metadata": {},
   "outputs": [],
   "source": [
    "def getRecommendations(ids, **kwargs):\n",
    "#     print(\"Recommendations: \", ids, kwargs)\n",
    "    recommendations = sp.recommendations(seed_tracks=ids, **kwargs)\n",
    "    \n",
    "    return recommendations['tracks']"
   ]
  },
  {
   "cell_type": "code",
   "execution_count": 118,
   "metadata": {
    "scrolled": true
   },
   "outputs": [
    {
     "ename": "TypeError",
     "evalue": "'builtin_function_or_method' object is not subscriptable",
     "output_type": "error",
     "traceback": [
      "\u001b[1;31m---------------------------------------------------------------------------\u001b[0m",
      "\u001b[1;31mTypeError\u001b[0m                                 Traceback (most recent call last)",
      "\u001b[1;32m<ipython-input-118-2d57eec3f776>\u001b[0m in \u001b[0;36m<module>\u001b[1;34m\u001b[0m\n\u001b[0;32m     10\u001b[0m \u001b[1;33m\u001b[0m\u001b[0m\n\u001b[0;32m     11\u001b[0m }\n\u001b[1;32m---> 12\u001b[1;33m \u001b[0mplaylist\u001b[0m \u001b[1;33m=\u001b[0m \u001b[0mgeneratePlaylist\u001b[0m\u001b[1;33m(\u001b[0m\u001b[1;36m5\u001b[0m\u001b[1;33m,\u001b[0m \u001b[0mtargets\u001b[0m\u001b[1;33m,\u001b[0m \u001b[0mseeds\u001b[0m\u001b[1;33m)\u001b[0m\u001b[1;33m\u001b[0m\u001b[1;33m\u001b[0m\u001b[0m\n\u001b[0m",
      "\u001b[1;32m<ipython-input-111-e11097cef5b6>\u001b[0m in \u001b[0;36mgeneratePlaylist\u001b[1;34m(numTracks, targets, seed)\u001b[0m\n\u001b[0;32m     65\u001b[0m \u001b[1;31m#     print(targets['target_energy'])\u001b[0m\u001b[1;33m\u001b[0m\u001b[1;33m\u001b[0m\u001b[1;33m\u001b[0m\u001b[0m\n\u001b[0;32m     66\u001b[0m \u001b[1;31m#     print(actual)\u001b[0m\u001b[1;33m\u001b[0m\u001b[1;33m\u001b[0m\u001b[1;33m\u001b[0m\u001b[0m\n\u001b[1;32m---> 67\u001b[1;33m     \u001b[0mresultAnalysis\u001b[0m\u001b[1;33m(\u001b[0m\u001b[0mplaylist\u001b[0m\u001b[1;33m,\u001b[0m \u001b[0mtargets\u001b[0m\u001b[1;33m)\u001b[0m\u001b[1;33m\u001b[0m\u001b[1;33m\u001b[0m\u001b[0m\n\u001b[0m\u001b[0;32m     68\u001b[0m     \u001b[1;32mreturn\u001b[0m \u001b[0mplaylist\u001b[0m\u001b[1;33m\u001b[0m\u001b[1;33m\u001b[0m\u001b[0m\n",
      "\u001b[1;32m<ipython-input-117-3f8d4b262b98>\u001b[0m in \u001b[0;36mresultAnalysis\u001b[1;34m(playlist, targets)\u001b[0m\n\u001b[0;32m      9\u001b[0m         \u001b[0mactual\u001b[0m \u001b[1;33m=\u001b[0m \u001b[1;33m[\u001b[0m\u001b[1;33m]\u001b[0m\u001b[1;33m\u001b[0m\u001b[1;33m\u001b[0m\u001b[0m\n\u001b[0;32m     10\u001b[0m         \u001b[1;32mfor\u001b[0m \u001b[0mj\u001b[0m \u001b[1;32min\u001b[0m \u001b[0mrange\u001b[0m\u001b[1;33m(\u001b[0m\u001b[1;36m0\u001b[0m\u001b[1;33m,\u001b[0m \u001b[0mlen\u001b[0m\u001b[1;33m(\u001b[0m\u001b[0mtargets\u001b[0m\u001b[1;33m[\u001b[0m\u001b[0mmetric\u001b[0m\u001b[1;33m]\u001b[0m\u001b[1;33m)\u001b[0m\u001b[1;33m)\u001b[0m\u001b[1;33m:\u001b[0m\u001b[1;33m\u001b[0m\u001b[1;33m\u001b[0m\u001b[0m\n\u001b[1;32m---> 11\u001b[1;33m             \u001b[0mactual\u001b[0m\u001b[1;33m.\u001b[0m\u001b[0mappend\u001b[0m\u001b[1;33m(\u001b[0m\u001b[0mfeatures\u001b[0m\u001b[1;33m[\u001b[0m\u001b[0mj\u001b[0m\u001b[1;33m]\u001b[0m\u001b[1;33m[\u001b[0m\u001b[0mmetric\u001b[0m\u001b[1;33m.\u001b[0m\u001b[0msplit\u001b[0m\u001b[1;33m[\u001b[0m\u001b[1;34m'_'\u001b[0m\u001b[1;33m]\u001b[0m\u001b[1;33m[\u001b[0m\u001b[1;36m1\u001b[0m\u001b[1;33m]\u001b[0m\u001b[1;33m]\u001b[0m\u001b[1;33m)\u001b[0m\u001b[1;33m\u001b[0m\u001b[1;33m\u001b[0m\u001b[0m\n\u001b[0m\u001b[0;32m     12\u001b[0m         \u001b[0mprint\u001b[0m\u001b[1;33m(\u001b[0m\u001b[1;34mf\"TARGET {metric.split['_'][1]}: {targets[metric]}\"\u001b[0m\u001b[1;33m)\u001b[0m\u001b[1;33m\u001b[0m\u001b[1;33m\u001b[0m\u001b[0m\n\u001b[0;32m     13\u001b[0m         \u001b[0mprint\u001b[0m\u001b[1;33m(\u001b[0m\u001b[1;34mf\"ACTUAL {metric.split['_'][1]}: {actual}\"\u001b[0m\u001b[1;33m)\u001b[0m\u001b[1;33m\u001b[0m\u001b[1;33m\u001b[0m\u001b[0m\n",
      "\u001b[1;31mTypeError\u001b[0m: 'builtin_function_or_method' object is not subscriptable"
     ]
    }
   ],
   "source": [
    "danceability = [.60, .70, .92, .73, .65]\n",
    "energy = [.60, .70, .92, .73, .65]\n",
    "targets: {\n",
    "        'target_danceability': danceability,\n",
    "        'target_energy': energy\n",
    "}\n",
    "seeds = {\n",
    "    'location': 1,\n",
    "    'id': 'spotify:track:22bNlvnDQbYAq0Ex2sduSu'\n",
    "\n",
    "}\n",
    "playlist = generatePlaylist(5, targets, seeds)"
   ]
  },
  {
   "cell_type": "code",
   "execution_count": 111,
   "metadata": {},
   "outputs": [],
   "source": [
    "def generatePlaylist(numTracks, targets, seed):\n",
    "    import copy\n",
    "    actual = copy.deepcopy(targets)\n",
    "    \n",
    "    \"\"\"\n",
    "    numTracks: number of tracks in the set\n",
    "    targets: dictionary of target values\n",
    "    seeds: dictionary of spotify id of artist or song, and location\n",
    "    \"\"\"\n",
    "    playlist = np.empty(shape=numTracks, dtype=np.object)\n",
    "    \n",
    "    seedIndex = seed['location']\n",
    "    features = getFeatures(seed['id'])\n",
    "    playlist[seedIndex] = seed['id']\n",
    "    for metric in targets:\n",
    "        targets[metric] = np.asarray(targets[metric], dtype=np.double)\n",
    "        features = getFeatures(seed['id']) \n",
    "        offset = features[metric.split('_')[1]] - targets[metric][seedIndex]\n",
    "        if offset > 0:\n",
    "            targets[metric] = targets[metric]+offset\n",
    "        if offset < 0:\n",
    "            targets[metric] = targets[metric]-offset\n",
    "    \n",
    "            \n",
    "    for i in range(seedIndex+1, len(playlist)):\n",
    "        \n",
    "        k = {}\n",
    "        for metric in targets:\n",
    "            k[metric] = targets[metric][i]        \n",
    "        num_seeds = min(i-seedIndex, 5)\n",
    "        trackseeds = playlist[seedIndex:seedIndex+num_seeds]\n",
    "        recommendations = getRecommendations(list(trackseeds), **k)\n",
    "        for track in recommendations:\n",
    "            feature_val_diff = -1\n",
    "            if track['id'] not in playlist:\n",
    "                playlist[i] = track['id']\n",
    "                break\n",
    "\n",
    "    for i in range(seedIndex-1, -1, -1):\n",
    "        \n",
    "        k = {}\n",
    "        for metric in targets:\n",
    "            k[metric] = targets[metric][i]        \n",
    "        x = len(playlist)-i\n",
    "        if x >= 5:\n",
    "            x = 5\n",
    "        trackseeds = playlist[i+1:i+x+1]\n",
    "        recommendations = getRecommendations(list(trackseeds), **k)\n",
    "        for track in recommendations:\n",
    "            if track['id'] not in playlist:\n",
    "                playlist[i] = track['id']\n",
    "                break\n",
    "    \n",
    "#     actual = []\n",
    "#     for i in range(0, len(playlist)):\n",
    "#         features = getFeatures(playlist[i])\n",
    "#         actual.append(features['danceability'])\n",
    "#     print(targets['target_danceability'])\n",
    "#     print(actual)\n",
    "    \n",
    "#     actual = []\n",
    "#     for i in range(0, len(playlist)):\n",
    "#         features = getFeatures(playlist[i])\n",
    "#         actual.append(features['energy'])\n",
    "#     print(targets['target_energy'])\n",
    "#     print(actual)\n",
    "    resultAnalysis(playlist, targets)\n",
    "    return playlist  "
   ]
  },
  {
   "cell_type": "code",
   "execution_count": 130,
   "metadata": {},
   "outputs": [],
   "source": [
    "def resultAnalysis(playlist, targets):\n",
    "    \n",
    "    features = []\n",
    "    \n",
    "    for i in range(0, len(playlist)):\n",
    "        features.append(getFeatures(playlist[i]))\n",
    "        \n",
    "    for metric in targets:\n",
    "        actual = []\n",
    "        for j in range(0, len(targets[metric])):\n",
    "            actual.append(features[j][metric.split('_')[1]])\n",
    "        print(f\"TARGET {metric.split('_')[1]}: {targets[metric]}\")\n",
    "        print(f\"ACTUAL {metric.split('_')[1]}: {actual}\")\n",
    "        \n",
    "        "
   ]
  },
  {
   "cell_type": "code",
   "execution_count": 133,
   "metadata": {},
   "outputs": [
    {
     "name": "stdout",
     "output_type": "stream",
     "text": [
      "TARGET danceability: [0.676 0.776 0.996 0.806 0.726]\n",
      "ACTUAL danceability: [0.698, 0.776, 0.8, 0.808, 0.718]\n",
      "TARGET energy: [0.803 0.853 1.023 0.853 0.703]\n",
      "ACTUAL energy: [0.706, 0.853, 0.89, 0.853, 0.693]\n",
      "TARGET valence: [1.2175 1.2675 1.3675 1.2675 1.2675]\n",
      "ACTUAL valence: [0.745, 0.0325, 0.683, 0.677, 0.664]\n"
     ]
    }
   ],
   "source": [
    "danceability = [.60, .70, .92, .73, .65]\n",
    "energy = [.60, .65, .82, .65, .50]\n",
    "valence = [.60, .65, .75, .65, .65]\n",
    "targets= {\n",
    "        'target_danceability': danceability,\n",
    "        'target_energy': energy,\n",
    "        'target_valence': valence\n",
    "}\n",
    "seeds = {\n",
    "    'location': 1,\n",
    "    'id': 'spotify:track:22bNlvnDQbYAq0Ex2sduSu'\n",
    "\n",
    "}\n",
    "playlist = generatePlaylist(5, targets, seeds)"
   ]
  },
  {
   "cell_type": "code",
   "execution_count": 38,
   "metadata": {},
   "outputs": [
    {
     "data": {
      "text/plain": [
       "{'collaborative': False,\n",
       " 'description': '',\n",
       " 'external_urls': {'spotify': 'https://open.spotify.com/playlist/0qxanOC7s6PZeai31xM2hi'},\n",
       " 'followers': {'href': None, 'total': 0},\n",
       " 'href': 'https://api.spotify.com/v1/playlists/0qxanOC7s6PZeai31xM2hi',\n",
       " 'id': '0qxanOC7s6PZeai31xM2hi',\n",
       " 'images': [],\n",
       " 'name': 'Test Playlist',\n",
       " 'owner': {'display_name': 'jup118',\n",
       "  'external_urls': {'spotify': 'https://open.spotify.com/user/jup118'},\n",
       "  'href': 'https://api.spotify.com/v1/users/jup118',\n",
       "  'id': 'jup118',\n",
       "  'type': 'user',\n",
       "  'uri': 'spotify:user:jup118'},\n",
       " 'primary_color': None,\n",
       " 'public': True,\n",
       " 'snapshot_id': 'MSw0YjM4NzA1ZGNhNThjMjk2Njg2MGQxNGE2MGU3ZDUwYmY0N2U1OGJh',\n",
       " 'tracks': {'href': 'https://api.spotify.com/v1/playlists/0qxanOC7s6PZeai31xM2hi/tracks',\n",
       "  'items': [],\n",
       "  'limit': 100,\n",
       "  'next': None,\n",
       "  'offset': 0,\n",
       "  'previous': None,\n",
       "  'total': 0},\n",
       " 'type': 'playlist',\n",
       " 'uri': 'spotify:playlist:0qxanOC7s6PZeai31xM2hi'}"
      ]
     },
     "execution_count": 38,
     "metadata": {},
     "output_type": "execute_result"
    }
   ],
   "source": [
    "sp.user_playlist_create(name=\"Test Playlist\", user=\"jup118\")"
   ]
  },
  {
   "cell_type": "code",
   "execution_count": 134,
   "metadata": {},
   "outputs": [
    {
     "data": {
      "text/plain": [
       "{'snapshot_id': 'OSwwOWNiZWI1MzkwZmEyNjIyOTI2OWM5ZmQxNmJlMzQzNjhhYTkyODUy'}"
      ]
     },
     "execution_count": 134,
     "metadata": {},
     "output_type": "execute_result"
    }
   ],
   "source": [
    "sp.playlist_add_items(items=playlist, playlist_id=\"0qxanOC7s6PZeai31xM2hi\")"
   ]
  },
  {
   "cell_type": "code",
   "execution_count": 56,
   "metadata": {},
   "outputs": [
    {
     "data": {
      "text/plain": [
       "array(['3ioD2gvfwj4YoOKhxS1EgN', 'spotify:track:22bNlvnDQbYAq0Ex2sduSu',\n",
       "       '1LxenWKrYzbX8zvbuZgKHn', '6IgIPWjUrRBTIm07t7H64S',\n",
       "       '5esTnUp3cLgKsU2Etci2Ao'], dtype=object)"
      ]
     },
     "execution_count": 56,
     "metadata": {},
     "output_type": "execute_result"
    }
   ],
   "source": [
    "playlist"
   ]
  },
  {
   "cell_type": "code",
   "execution_count": null,
   "metadata": {},
   "outputs": [],
   "source": []
  }
 ],
 "metadata": {
  "kernelspec": {
   "display_name": "Python 3",
   "language": "python",
   "name": "python3"
  },
  "language_info": {
   "codemirror_mode": {
    "name": "ipython",
    "version": 3
   },
   "file_extension": ".py",
   "mimetype": "text/x-python",
   "name": "python",
   "nbconvert_exporter": "python",
   "pygments_lexer": "ipython3",
   "version": "3.7.3"
  }
 },
 "nbformat": 4,
 "nbformat_minor": 2
}
