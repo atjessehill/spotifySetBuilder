{
 "cells": [
  {
   "cell_type": "code",
   "execution_count": 1,
   "metadata": {},
   "outputs": [],
   "source": [
    "import boto3\n",
    "import spotipy\n",
    "import json\n",
    "import pandas as pd\n",
    "from spotipy.oauth2 import SpotifyClientCredentials\n",
    "import numpy as np"
   ]
  },
  {
   "cell_type": "code",
   "execution_count": null,
   "metadata": {},
   "outputs": [],
   "source": [
    "# TODO\n",
    "# Artist seed needs to search song first and get value that best matches target value \n",
    "# Normalize values\n",
    "# TODO handle case where recommendation doesn't return anything"
   ]
  },
  {
   "cell_type": "code",
   "execution_count": 2,
   "metadata": {},
   "outputs": [],
   "source": [
    "client = boto3.client('lambda')\n",
    "response = client.invoke(FunctionName='spotifyLambda', InvocationType='RequestResponse')\n",
    "data = json.loads(response['Payload'].read())\n",
    "token = json.loads(data['body'])['token']"
   ]
  },
  {
   "cell_type": "code",
   "execution_count": 3,
   "metadata": {},
   "outputs": [],
   "source": [
    "sp = spotipy.Spotify(token)"
   ]
  },
  {
   "cell_type": "code",
   "execution_count": 4,
   "metadata": {},
   "outputs": [],
   "source": [
    "def getFeatures(songID):\n",
    "    audioFeaturesRaw = sp.audio_features(songID)[0]    \n",
    "    return audioFeaturesRaw"
   ]
  },
  {
   "cell_type": "code",
   "execution_count": 5,
   "metadata": {},
   "outputs": [],
   "source": [
    "def getRecommendations(ids, **kwargs):\n",
    "#     print(\"Recommendations: \", ids, kwargs)\n",
    "    recommendations = sp.recommendations(seed_tracks=ids, **kwargs)\n",
    "    \n",
    "    return recommendations['tracks']"
   ]
  },
  {
   "cell_type": "code",
   "execution_count": 16,
   "metadata": {},
   "outputs": [],
   "source": [
    "def generatePlaylist(numTracks, targets, seed):\n",
    "    import copy\n",
    "    actual = copy.deepcopy(targets)\n",
    "    \n",
    "    \"\"\"\n",
    "    numTracks: number of tracks in the set\n",
    "    targets: dictionary of target values\n",
    "    seeds: dictionary of spotify id of artist or song, and location\n",
    "    \"\"\"\n",
    "    playlist = np.empty(shape=numTracks, dtype=np.object)\n",
    "    \n",
    "    seedIndex = seed['location']\n",
    "    features = getFeatures(seed['id'])\n",
    "    playlist[seedIndex] = seed['id']\n",
    "    for metric in targets:\n",
    "        if metric == 'target_instrumentalness':\n",
    "            continue\n",
    "        targets[metric] = np.asarray(targets[metric], dtype=np.double)\n",
    "        features = getFeatures(seed['id']) \n",
    "        offset = features[metric.split('_')[1]] - targets[metric][seedIndex]\n",
    "        if offset > 0:\n",
    "            targets[metric] = targets[metric]+offset\n",
    "        if offset < 0:\n",
    "            targets[metric] = targets[metric]-offset\n",
    "    \n",
    "            \n",
    "    for i in range(seedIndex+1, len(playlist)):\n",
    "        \n",
    "        k = {}\n",
    "        for metric in targets:\n",
    "            k[metric] = targets[metric][i]        \n",
    "        num_seeds = min(i-seedIndex, 5)\n",
    "        trackseeds = playlist[seedIndex:seedIndex+num_seeds]\n",
    "        recommendations = getRecommendations(list(trackseeds), **k)\n",
    "        if len(recommendations)==0:\n",
    "            print(\"No Recs\")\n",
    "        for track in recommendations:\n",
    "            feature_val_diff = -1\n",
    "            if track['id'] not in playlist:\n",
    "                playlist[i] = track['id']\n",
    "                break\n",
    "\n",
    "    for i in range(seedIndex-1, -1, -1):\n",
    "        \n",
    "        k = {}\n",
    "        for metric in targets:\n",
    "            k[metric] = targets[metric][i]        \n",
    "        x = len(playlist)-i\n",
    "        if x >= 5:\n",
    "            x = 5\n",
    "        trackseeds = playlist[i+1:i+x+1]\n",
    "        recommendations = getRecommendations(list(trackseeds), **k)\n",
    "        if len(recommendations)==0:\n",
    "            print(\"No Recs\")\n",
    "        for track in recommendations:\n",
    "            if track['id'] not in playlist:\n",
    "                playlist[i] = track['id']\n",
    "                break\n",
    "    \n",
    "#     actual = []\n",
    "#     for i in range(0, len(playlist)):\n",
    "#         features = getFeatures(playlist[i])\n",
    "#         actual.append(features['danceability'])\n",
    "#     print(targets['target_danceability'])\n",
    "#     print(actual)\n",
    "    \n",
    "#     actual = []\n",
    "#     for i in range(0, len(playlist)):\n",
    "#         features = getFeatures(playlist[i])\n",
    "#         actual.append(features['energy'])\n",
    "#     print(targets['target_energy'])\n",
    "#     print(actual)\n",
    "    resultAnalysis(playlist, targets)\n",
    "    return playlist  "
   ]
  },
  {
   "cell_type": "code",
   "execution_count": 10,
   "metadata": {},
   "outputs": [],
   "source": [
    "def resultAnalysis(playlist, targets):\n",
    "    \n",
    "    features = []\n",
    "    \n",
    "    for i in range(0, len(playlist)):\n",
    "        features.append(getFeatures(playlist[i]))\n",
    "        \n",
    "    for metric in targets:\n",
    "        actual = []\n",
    "        for j in range(0, len(targets[metric])):\n",
    "            actual.append(features[j][metric.split('_')[1]])\n",
    "        print(f\"TARGET {metric.split('_')[1]}: {targets[metric]}\")\n",
    "        print(f\"ACTUAL {metric.split('_')[1]}: {actual}\")\n",
    "        \n",
    "        "
   ]
  },
  {
   "cell_type": "code",
   "execution_count": 17,
   "metadata": {},
   "outputs": [
    {
     "name": "stdout",
     "output_type": "stream",
     "text": [
      "TARGET danceability: [0.621 0.671 0.721 0.941 0.751 0.671]\n",
      "ACTUAL danceability: [0.775, 0.718, 0.679, 0.877, 0.77, 0.545]\n",
      "TARGET energy: [0.729 0.829 0.879 1.049 0.879 0.729]\n",
      "ACTUAL energy: [0.798, 0.84, 0.879, 0.854, 0.808, 0.837]\n",
      "TARGET valence: [1.3214 1.1714 1.2214 1.3214 1.2214 1.2214]\n",
      "ACTUAL valence: [0.869, 0.95, 0.0786, 0.537, 0.885, 0.734]\n",
      "TARGET instrumentalness: [1.0, 0.0, 0.0, 1.0, 0.0, 1.0]\n",
      "ACTUAL instrumentalness: [0.903, 0.00076, 0.773, 0.879, 0.00163, 0.926]\n"
     ]
    }
   ],
   "source": [
    "danceability = [.60, .65, .70, .92, .73, .65]\n",
    "energy = [.50, .60, .65, .82, .65, .50]\n",
    "valence = [.75, .60, .65, .75, .65, .65]\n",
    "instrumentalness = [1.0, 0.0, 0.0, 1.0, 0.0, 1.0]\n",
    "targets= {\n",
    "        'target_danceability': danceability,\n",
    "        'target_energy': energy,\n",
    "        'target_valence': valence,\n",
    "        'target_instrumentalness': instrumentalness\n",
    "}\n",
    "seeds = {\n",
    "    'location': 2,\n",
    "    'id': '2WJMb5llcepSZ2mKRD6Frt'\n",
    "\n",
    "}\n",
    "playlist = generatePlaylist(len(danceability), targets, seeds)"
   ]
  },
  {
   "cell_type": "code",
   "execution_count": 38,
   "metadata": {},
   "outputs": [
    {
     "data": {
      "text/plain": [
       "{'collaborative': False,\n",
       " 'description': '',\n",
       " 'external_urls': {'spotify': 'https://open.spotify.com/playlist/0qxanOC7s6PZeai31xM2hi'},\n",
       " 'followers': {'href': None, 'total': 0},\n",
       " 'href': 'https://api.spotify.com/v1/playlists/0qxanOC7s6PZeai31xM2hi',\n",
       " 'id': '0qxanOC7s6PZeai31xM2hi',\n",
       " 'images': [],\n",
       " 'name': 'Test Playlist',\n",
       " 'owner': {'display_name': 'jup118',\n",
       "  'external_urls': {'spotify': 'https://open.spotify.com/user/jup118'},\n",
       "  'href': 'https://api.spotify.com/v1/users/jup118',\n",
       "  'id': 'jup118',\n",
       "  'type': 'user',\n",
       "  'uri': 'spotify:user:jup118'},\n",
       " 'primary_color': None,\n",
       " 'public': True,\n",
       " 'snapshot_id': 'MSw0YjM4NzA1ZGNhNThjMjk2Njg2MGQxNGE2MGU3ZDUwYmY0N2U1OGJh',\n",
       " 'tracks': {'href': 'https://api.spotify.com/v1/playlists/0qxanOC7s6PZeai31xM2hi/tracks',\n",
       "  'items': [],\n",
       "  'limit': 100,\n",
       "  'next': None,\n",
       "  'offset': 0,\n",
       "  'previous': None,\n",
       "  'total': 0},\n",
       " 'type': 'playlist',\n",
       " 'uri': 'spotify:playlist:0qxanOC7s6PZeai31xM2hi'}"
      ]
     },
     "execution_count": 38,
     "metadata": {},
     "output_type": "execute_result"
    }
   ],
   "source": [
    "sp.user_playlist_create(name=\"Test Playlist\", user=\"jup118\")"
   ]
  },
  {
   "cell_type": "code",
   "execution_count": 18,
   "metadata": {},
   "outputs": [
    {
     "data": {
      "text/plain": [
       "{'snapshot_id': 'MTEsNzU2ZjhhMjRiOGQ4NDM3N2ZjY2Y3MjYzMzAxNTIxMzcwMzc1MTY1ZA=='}"
      ]
     },
     "execution_count": 18,
     "metadata": {},
     "output_type": "execute_result"
    }
   ],
   "source": [
    "sp.playlist_add_items(items=playlist, playlist_id=\"0qxanOC7s6PZeai31xM2hi\")"
   ]
  },
  {
   "cell_type": "code",
   "execution_count": 56,
   "metadata": {},
   "outputs": [
    {
     "data": {
      "text/plain": [
       "array(['3ioD2gvfwj4YoOKhxS1EgN', 'spotify:track:22bNlvnDQbYAq0Ex2sduSu',\n",
       "       '1LxenWKrYzbX8zvbuZgKHn', '6IgIPWjUrRBTIm07t7H64S',\n",
       "       '5esTnUp3cLgKsU2Etci2Ao'], dtype=object)"
      ]
     },
     "execution_count": 56,
     "metadata": {},
     "output_type": "execute_result"
    }
   ],
   "source": [
    "playlist"
   ]
  },
  {
   "cell_type": "code",
   "execution_count": null,
   "metadata": {},
   "outputs": [],
   "source": []
  }
 ],
 "metadata": {
  "kernelspec": {
   "display_name": "Python 3",
   "language": "python",
   "name": "python3"
  },
  "language_info": {
   "codemirror_mode": {
    "name": "ipython",
    "version": 3
   },
   "file_extension": ".py",
   "mimetype": "text/x-python",
   "name": "python",
   "nbconvert_exporter": "python",
   "pygments_lexer": "ipython3",
   "version": "3.7.3"
  }
 },
 "nbformat": 4,
 "nbformat_minor": 2
}
