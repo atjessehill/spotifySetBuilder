{
 "cells": [
  {
   "cell_type": "code",
   "execution_count": 1,
   "metadata": {},
   "outputs": [],
   "source": [
    "import boto3\n",
    "import spotipy\n",
    "import json\n",
    "import pandas as pd\n",
    "from spotipy.oauth2 import SpotifyClientCredentials\n",
    "import numpy as np"
   ]
  },
  {
   "cell_type": "code",
   "execution_count": null,
   "metadata": {},
   "outputs": [],
   "source": [
    "# TODO\n",
    "# Artist seed needs to search song first and get value that best matches target value \n",
    "# Normalize values"
   ]
  },
  {
   "cell_type": "code",
   "execution_count": 68,
   "metadata": {},
   "outputs": [],
   "source": [
    "client = boto3.client('lambda')\n",
    "response = client.invoke(FunctionName='spotifyLambda', InvocationType='RequestResponse')\n",
    "data = json.loads(response['Payload'].read())\n",
    "token = json.loads(data['body'])['token']"
   ]
  },
  {
   "cell_type": "code",
   "execution_count": 69,
   "metadata": {},
   "outputs": [],
   "source": [
    "sp = spotipy.Spotify(token)"
   ]
  },
  {
   "cell_type": "code",
   "execution_count": 4,
   "metadata": {},
   "outputs": [],
   "source": [
    "def getFeatures(songID):\n",
    "    audioFeaturesRaw = sp.audio_features(songID)[0]    \n",
    "    return audioFeaturesRaw"
   ]
  },
  {
   "cell_type": "code",
   "execution_count": 93,
   "metadata": {},
   "outputs": [],
   "source": [
    "def getRecommendations(ids, target_danceability):\n",
    "#     print(\"Recommendations: \", ids)\n",
    "    recommendations = sp.recommendations(seed_tracks=ids, target_danceability=target_danceability)\n",
    "    \n",
    "    return recommendations['tracks']"
   ]
  },
  {
   "cell_type": "code",
   "execution_count": 79,
   "metadata": {},
   "outputs": [],
   "source": [
    "def generatePlaylist(numTracks, targets, seeds):\n",
    "    \n",
    "    \"\"\"\n",
    "    numTracks: number of tracks in the set\n",
    "    intervals: the target danceability\n",
    "    seeds: dictionary of spotify id of artist or song, and location\n",
    "    \"\"\"\n",
    "        \n",
    "    playlist = np.empty(shape=numTracks, dtype=np.object)\n",
    "    \n",
    "    for seed in seeds:\n",
    "        seedIndex = seed['location']\n",
    "        playlist[seedIndex] = seed['id']\n",
    "        \n",
    "#         print(seed)\n",
    "#         rec = getRecommendations([seed['id']], 0.9)\n",
    "#         print(rec[0])\n",
    "#         playlist[seed['location']] = rec[0]['id']\n",
    "        \n",
    "    for i in range(seedIndex+1, len(playlist)):\n",
    "        num_seeds = min(i-seedIndex, 5)\n",
    "        trackseeds = playlist[seedIndex:seedIndex+num_seeds]\n",
    "        recommendations = getRecommendations(list(trackseeds), 0.9)\n",
    "        for track in recommendations:\n",
    "            if track['id'] not in playlist:\n",
    "                playlist[i] = track['id']\n",
    "\n",
    "    print(playlist)\n",
    "\n",
    "    for i in range(seedIndex-1, -1, -1):\n",
    "        x = len(playlist)-i\n",
    "        print(x)\n",
    "        if x >= 5:\n",
    "            x = 5\n",
    "        trackseeds = playlist[i+1:i+x+1]\n",
    "        recommendations = getRecommendations(list(trackseeds), 0.9)\n",
    "        for track in recommendations:\n",
    "            if track['id'] not in playlist:\n",
    "                playlist[i] = track['id']\n",
    "        \n",
    "        \n",
    "    return playlist  \n",
    "#     for i in range(seedIndex-1, -1, -1):\n",
    "#         num_seeds = min(i-seedIndex, (len(playlist)-seedIndex), 5)\n",
    "    \n",
    "#     for i in range(seedIndex, 0, -1):\n",
    "        \n",
    "#     # 1. Get first song using song seed & get danceability\n",
    "\n",
    "#     print(playlist)\n",
    "    \n",
    "    \n",
    "    \n",
    "    # 2. For forward and backwards:\n",
    "    #    target = diff(previous value*intervals[i])\n",
    "    #    get recommended songs with target\n",
    "    #    iterate over results to ensure no duplicates"
   ]
  },
  {
   "cell_type": "code",
   "execution_count": 80,
   "metadata": {},
   "outputs": [
    {
     "name": "stdout",
     "output_type": "stream",
     "text": [
      "Recommendations:  ['spotify:track:22bNlvnDQbYAq0Ex2sduSu']\n",
      "[None None None None None None None None None\n",
      " 'spotify:track:22bNlvnDQbYAq0Ex2sduSu' '442p4aC62fO5g7dBdVEzd0']\n",
      "3\n",
      "Recommendations:  ['spotify:track:22bNlvnDQbYAq0Ex2sduSu', '442p4aC62fO5g7dBdVEzd0']\n",
      "4\n",
      "Recommendations:  ['39DGA6wVmeA4cSZqD4UDqm', 'spotify:track:22bNlvnDQbYAq0Ex2sduSu', '442p4aC62fO5g7dBdVEzd0']\n",
      "5\n",
      "Recommendations:  ['2IA4VDpFh0pyY2Pb3CYKHf', '39DGA6wVmeA4cSZqD4UDqm', 'spotify:track:22bNlvnDQbYAq0Ex2sduSu', '442p4aC62fO5g7dBdVEzd0']\n",
      "6\n",
      "Recommendations:  ['3xwoix3bonSRudOF5VKJH6', '2IA4VDpFh0pyY2Pb3CYKHf', '39DGA6wVmeA4cSZqD4UDqm', 'spotify:track:22bNlvnDQbYAq0Ex2sduSu', '442p4aC62fO5g7dBdVEzd0']\n",
      "7\n",
      "Recommendations:  ['2jfO4JD0df6lXdmTRcUAVL', '3xwoix3bonSRudOF5VKJH6', '2IA4VDpFh0pyY2Pb3CYKHf', '39DGA6wVmeA4cSZqD4UDqm', 'spotify:track:22bNlvnDQbYAq0Ex2sduSu']\n",
      "8\n",
      "Recommendations:  ['29kEoIucvGtsu0MqXqN2PX', '2jfO4JD0df6lXdmTRcUAVL', '3xwoix3bonSRudOF5VKJH6', '2IA4VDpFh0pyY2Pb3CYKHf', '39DGA6wVmeA4cSZqD4UDqm']\n",
      "9\n",
      "Recommendations:  ['5jS8H3e5ehSHgEfAYoxF2s', '29kEoIucvGtsu0MqXqN2PX', '2jfO4JD0df6lXdmTRcUAVL', '3xwoix3bonSRudOF5VKJH6', '2IA4VDpFh0pyY2Pb3CYKHf']\n",
      "10\n",
      "Recommendations:  ['1cvCw6AbNo8UnaiTpYIvAu', '5jS8H3e5ehSHgEfAYoxF2s', '29kEoIucvGtsu0MqXqN2PX', '2jfO4JD0df6lXdmTRcUAVL', '3xwoix3bonSRudOF5VKJH6']\n",
      "11\n",
      "Recommendations:  ['75SQq03kNOvXwZ3IdFFUXv', '1cvCw6AbNo8UnaiTpYIvAu', '5jS8H3e5ehSHgEfAYoxF2s', '29kEoIucvGtsu0MqXqN2PX', '2jfO4JD0df6lXdmTRcUAVL']\n"
     ]
    }
   ],
   "source": [
    "seeds = [{\n",
    "    'location': 6,\n",
    "    'id': 'spotify:track:22bNlvnDQbYAq0Ex2sduSu'\n",
    "}]\n",
    "playlist = generatePlaylist(11, None, seeds)"
   ]
  },
  {
   "cell_type": "code",
   "execution_count": 85,
   "metadata": {},
   "outputs": [
    {
     "data": {
      "text/plain": [
       "{'collaborative': False,\n",
       " 'description': '',\n",
       " 'external_urls': {'spotify': 'https://open.spotify.com/playlist/12TDVXTouMN8fv5AuE27yg'},\n",
       " 'followers': {'href': None, 'total': 0},\n",
       " 'href': 'https://api.spotify.com/v1/playlists/12TDVXTouMN8fv5AuE27yg',\n",
       " 'id': '12TDVXTouMN8fv5AuE27yg',\n",
       " 'images': [],\n",
       " 'name': 'Test run',\n",
       " 'owner': {'display_name': 'jup118',\n",
       "  'external_urls': {'spotify': 'https://open.spotify.com/user/jup118'},\n",
       "  'href': 'https://api.spotify.com/v1/users/jup118',\n",
       "  'id': 'jup118',\n",
       "  'type': 'user',\n",
       "  'uri': 'spotify:user:jup118'},\n",
       " 'primary_color': None,\n",
       " 'public': True,\n",
       " 'snapshot_id': 'MSxhNTViNWU2NjBmZjdjZTFjNzY0YTc4YWZiZmU3MmU5YTI5MjMxMTQ1',\n",
       " 'tracks': {'href': 'https://api.spotify.com/v1/playlists/12TDVXTouMN8fv5AuE27yg/tracks',\n",
       "  'items': [],\n",
       "  'limit': 100,\n",
       "  'next': None,\n",
       "  'offset': 0,\n",
       "  'previous': None,\n",
       "  'total': 0},\n",
       " 'type': 'playlist',\n",
       " 'uri': 'spotify:playlist:12TDVXTouMN8fv5AuE27yg'}"
      ]
     },
     "execution_count": 85,
     "metadata": {},
     "output_type": "execute_result"
    }
   ],
   "source": [
    "sp.user_playlist_create(name=\"Test Playlist\", user=\"jup118\")"
   ]
  },
  {
   "cell_type": "code",
   "execution_count": 92,
   "metadata": {},
   "outputs": [
    {
     "data": {
      "text/plain": [
       "{'snapshot_id': 'MyxhMmVkMzkwZmYzNDgwMzhkMjQwZmEyMDBhZTk5MDhmOGVkZmNkNWJm'}"
      ]
     },
     "execution_count": 92,
     "metadata": {},
     "output_type": "execute_result"
    }
   ],
   "source": [
    "sp.playlist_add_items(items=playlist, playlist_id=\"12TDVXTouMN8fv5AuE27yg\")"
   ]
  },
  {
   "cell_type": "code",
   "execution_count": null,
   "metadata": {},
   "outputs": [],
   "source": []
  }
 ],
 "metadata": {
  "kernelspec": {
   "display_name": "Python 3",
   "language": "python",
   "name": "python3"
  },
  "language_info": {
   "codemirror_mode": {
    "name": "ipython",
    "version": 3
   },
   "file_extension": ".py",
   "mimetype": "text/x-python",
   "name": "python",
   "nbconvert_exporter": "python",
   "pygments_lexer": "ipython3",
   "version": "3.7.3"
  }
 },
 "nbformat": 4,
 "nbformat_minor": 2
}
